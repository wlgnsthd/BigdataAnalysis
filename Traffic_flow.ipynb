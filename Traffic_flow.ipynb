{
 "cells": [
  {
   "cell_type": "code",
   "execution_count": 38,
   "id": "5daa66ec",
   "metadata": {},
   "outputs": [],
   "source": [
    "import os\n",
    "import sys\n",
    "import urllib\n",
    "import urllib.request\n",
    "import datetime\n",
    "import time\n",
    "import json\n",
    "import math\n",
    "import pandas as pd\n",
    "import csv"
   ]
  },
  {
   "cell_type": "code",
   "execution_count": 39,
   "id": "50d2b902",
   "metadata": {},
   "outputs": [],
   "source": [
    "result_pd = pd.DataFrame()\n",
    "access_key = '39Eri2U1%2BFHElpAAe2Cqjlkbm9Cup%2BTfY%2BQ4I5aAR6Ho5yEyM9Dbng00rv%2B%2FfBVh3m4bsfMnxRYP4yjPBmTy7Q%3D%3D'\n",
    "access_key2 = '39Eri2U1+FHElpAAe2Cqjlkbm9Cup+TfY+Q4I5aAR6Ho5yEyM9Dbng00rv+/fBVh3m4bsfMnxRYP4yjPBmTy7Q=='"
   ]
  },
  {
   "cell_type": "code",
   "execution_count": 40,
   "id": "45bd4520",
   "metadata": {},
   "outputs": [],
   "source": [
    "def get_request_url(url):\n",
    "    \n",
    "    req = urllib.request.Request(url)\n",
    "    \n",
    "    try: \n",
    "        response = urllib.request.urlopen(req)\n",
    "        if response.getcode() == 200:\n",
    "            return response.read().decode('utf-8')\n",
    "            \n",
    "    except Exception as e:\n",
    "        return None\n"
   ]
  },
  {
   "cell_type": "code",
   "execution_count": 41,
   "id": "dac1b9ff",
   "metadata": {},
   "outputs": [
    {
     "name": "stdout",
     "output_type": "stream",
     "text": [
      "%EA%B0%95%EB%82%A8%EB%A1%9C\n"
     ]
    }
   ],
   "source": [
    "print(urllib.parse.quote(\"강남로\"))\n"
   ]
  },
  {
   "cell_type": "code",
   "execution_count": 43,
   "id": "c18178ea",
   "metadata": {},
   "outputs": [
    {
     "name": "stdout",
     "output_type": "stream",
     "text": [
      "http://openapi.its.ulsan.kr/UlsanAPI/getSpeedLeve3List.xo?pageNo=1&numOfRows=10&roadnm=%EC%82%BC%EC%82%B0%EB%A1%9C&serviceKey=39Eri2U1%2BFHElpAAe2Cqjlkbm9Cup%2BTfY%2BQ4I5aAR6Ho5yEyM9Dbng00rv%2B%2FfBVh3m4bsfMnxRYP4yjPBmTy7Q%3D%3D\n",
      "<tableInfo>\n",
      "  <pageNo>1</pageNo>\n",
      "  <numOfRows>10</numOfRows>\n",
      "  <totalCnt>8</totalCnt>\n",
      "  <resultCode>200</resultCode>\n",
      "  <resultMsg>SUCCESS</resultMsg>\n",
      "  <list>\n",
      "    <row>\n",
      "      <FNODENAME>공업탑R</FNODENAME>\n",
      "      <RNUM>1</RNUM>\n",
      "      <CHGYMDHMS>20220126172500</CHGYMDHMS>\n",
      "      <TRAVELTIME>304</TRAVELTIME>\n",
      "      <SPEED>23.1</SPEED>\n",
      "      <VOLUME>0</VOLUME>\n",
      "      <TNODENAME>번영4</TNODENAME>\n",
      "      <ROADNM>삼산로</ROADNM>\n",
      "    </row>\n",
      "    <row>\n",
      "      <FNODENAME>달동4</FNODENAME>\n",
      "      <RNUM>2</RNUM>\n",
      "      <CHGYMDHMS>20220126172500</CHGYMDHMS>\n",
      "      <TRAVELTIME>111</TRAVELTIME>\n",
      "      <SPEED>21.5</SPEED>\n",
      "      <VOLUME>0</VOLUME>\n",
      "      <TNODENAME>공업탑R</TNODENAME>\n",
      "      <ROADNM>삼산로-터미널</ROADNM>\n",
      "    </row>\n",
      "    <row>\n",
      "      <FNODENAME>번영4</FNODENAME>\n",
      "      <RNUM>3</RNUM>\n",
      "      <CHGYMDHMS>20220126172500</CHGYMDHMS>\n",
      "      <TRAVELTIME>161</TRAVELTIME>\n",
      "      <SPEED>28.8</SPEED>\n",
      "      <VOLUME>0</VOLUME>\n",
      "      <TNODENAME>달동4</TNODENAME>\n",
      "      <ROADNM>삼산로-터미널</ROADNM>\n",
      "    </row>\n",
      "    <row>\n",
      "      <FNODENAME>터미널4</FNODENAME>\n",
      "      <RNUM>4</RNUM>\n",
      "      <CHGYMDHMS>20220126172500</CHGYMDHMS>\n",
      "      <TRAVELTIME>329</TRAVELTIME>\n",
      "      <SPEED>11.4</SPEED>\n",
      "      <VOLUME>0</VOLUME>\n",
      "      <TNODENAME>번영4</TNODENAME>\n",
      "      <ROADNM>삼산로-터미널</ROADNM>\n",
      "    </row>\n",
      "    <row>\n",
      "      <FNODENAME>번영4</FNODENAME>\n",
      "      <RNUM>5</RNUM>\n",
      "      <CHGYMDHMS>20220126172500</CHGYMDHMS>\n",
      "      <TRAVELTIME>159</TRAVELTIME>\n",
      "      <SPEED>23.5</SPEED>\n",
      "      <VOLUME>0</VOLUME>\n",
      "      <TNODENAME>터미널4</TNODENAME>\n",
      "      <ROADNM>삼산로-터미널</ROADNM>\n",
      "    </row>\n",
      "    <row>\n",
      "      <FNODENAME>달동4</FNODENAME>\n",
      "      <RNUM>6</RNUM>\n",
      "      <CHGYMDHMS>20220126172500</CHGYMDHMS>\n",
      "      <TRAVELTIME>218</TRAVELTIME>\n",
      "      <SPEED>21.3</SPEED>\n",
      "      <VOLUME>0</VOLUME>\n",
      "      <TNODENAME>번영4</TNODENAME>\n",
      "      <ROADNM>삼산로-터미널</ROADNM>\n",
      "    </row>\n",
      "    <row>\n",
      "      <FNODENAME>태화강역</FNODENAME>\n",
      "      <RNUM>7</RNUM>\n",
      "      <CHGYMDHMS>20220126172500</CHGYMDHMS>\n",
      "      <TRAVELTIME>268</TRAVELTIME>\n",
      "      <SPEED>15.2</SPEED>\n",
      "      <VOLUME>0</VOLUME>\n",
      "      <TNODENAME>터미널4</TNODENAME>\n",
      "      <ROADNM>삼산로-터미널</ROADNM>\n",
      "    </row>\n",
      "    <row>\n",
      "      <FNODENAME>공업탑R</FNODENAME>\n",
      "      <RNUM>8</RNUM>\n",
      "      <CHGYMDHMS>20220126172500</CHGYMDHMS>\n",
      "      <TRAVELTIME>86</TRAVELTIME>\n",
      "      <SPEED>27.7</SPEED>\n",
      "      <VOLUME>0</VOLUME>\n",
      "      <TNODENAME>달동4</TNODENAME>\n",
      "      <ROADNM>삼산로-터미널</ROADNM>\n",
      "    </row>\n",
      "  </list>\n",
      "</tableInfo>\n"
     ]
    }
   ],
   "source": [
    "# Road ID 검색 (ITS 검색으로 부터 북부순환도로,삼호로,남부순환도로,대학로,울산고속도로 항목 얻어냄)\n",
    "#http://openapi.its.ulsan.kr/UlsanAPI/getSpeedLeve3List.xo?pageNo=1&numOfRows=10&roadnm=강남로&serviceKey=인증키\n",
    "#http://openapi.its.ulsan.kr/UlsanAPI/getSpeedLeve4List.xo?serviceKey=39Eri2U1%2BFHElpAAe2Cqjlkbm9Cup%2BTfY%2BQ4I5aAR6Ho5yEyM9Dbng00rv%2B%2FfBVh3m4bsfMnxRYP4yjPBmTy7Q%3D%3D&roadnm=%EA%B0%95%EB%82%A8%EB%A1%9C&pageNo=1&numOfRows=10\n",
    "end_point = 'http://openapi.its.ulsan.kr/UlsanAPI/getSpeedLeve3List.xo'\n",
    "parameters = \"?pageNo=1\"\n",
    "parameters += \"&numOfRows=10\"\n",
    "parameters += \"&roadnm=\" \n",
    "parameters += urllib.parse.quote(\"삼산로\")\n",
    "parameters += \"&serviceKey=\" + access_key \n",
    "\n",
    "url = end_point + parameters\n",
    "retData = get_request_url(url)\n",
    "print(url)\n",
    "print(retData)"
   ]
  },
  {
   "cell_type": "code",
   "execution_count": null,
   "id": "4f19cec4",
   "metadata": {},
   "outputs": [],
   "source": []
  }
 ],
 "metadata": {
  "kernelspec": {
   "display_name": "Python 3 (ipykernel)",
   "language": "python",
   "name": "python3"
  },
  "language_info": {
   "codemirror_mode": {
    "name": "ipython",
    "version": 3
   },
   "file_extension": ".py",
   "mimetype": "text/x-python",
   "name": "python",
   "nbconvert_exporter": "python",
   "pygments_lexer": "ipython3",
   "version": "3.9.7"
  }
 },
 "nbformat": 4,
 "nbformat_minor": 5
}
