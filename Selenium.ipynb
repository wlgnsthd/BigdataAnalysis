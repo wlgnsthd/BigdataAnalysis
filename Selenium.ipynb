{
  "nbformat": 4,
  "nbformat_minor": 0,
  "metadata": {
    "colab": {
      "name": "Selenium",
      "private_outputs": true,
      "provenance": [],
      "authorship_tag": "ABX9TyP+pglBtug6sEpc7qsJGLW7",
      "include_colab_link": true
    },
    "kernelspec": {
      "name": "python3",
      "display_name": "Python 3"
    },
    "language_info": {
      "name": "python"
    }
  },
  "cells": [
    {
      "cell_type": "markdown",
      "metadata": {
        "id": "view-in-github",
        "colab_type": "text"
      },
      "source": [
        "<a href=\"https://colab.research.google.com/github/wlgnsthd/BigdataAnalysis/blob/main/Selenium.ipynb\" target=\"_parent\"><img src=\"https://colab.research.google.com/assets/colab-badge.svg\" alt=\"Open In Colab\"/></a>"
      ]
    },
    {
      "cell_type": "markdown",
      "metadata": {
        "id": "y_AKRuoqY4TY"
      },
      "source": [
        "#import"
      ]
    },
    {
      "cell_type": "code",
      "metadata": {
        "id": "kkGJHzLhY4mi"
      },
      "source": [
        ""
      ],
      "execution_count": null,
      "outputs": []
    },
    {
      "cell_type": "markdown",
      "metadata": {
        "id": "VURFjaGHY1l5"
      },
      "source": [
        "#데이터 추출"
      ]
    },
    {
      "cell_type": "code",
      "metadata": {
        "id": "TpZXgPRgXwsb"
      },
      "source": [
        ""
      ],
      "execution_count": null,
      "outputs": []
    },
    {
      "cell_type": "markdown",
      "metadata": {
        "id": "7Xevbvu8ZGEm"
      },
      "source": [
        "#데이터정렬"
      ]
    },
    {
      "cell_type": "code",
      "metadata": {
        "id": "JSGMOX1EZIIs"
      },
      "source": [
        ""
      ],
      "execution_count": null,
      "outputs": []
    },
    {
      "cell_type": "markdown",
      "metadata": {
        "id": "GgzTzhF7Yzyz"
      },
      "source": [
        "#출력"
      ]
    },
    {
      "cell_type": "code",
      "metadata": {
        "id": "AUPbrsjDY1Ce"
      },
      "source": [
        ""
      ],
      "execution_count": null,
      "outputs": []
    }
  ]
}