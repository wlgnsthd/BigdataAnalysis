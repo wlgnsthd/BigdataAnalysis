{
  "nbformat": 4,
  "nbformat_minor": 0,
  "metadata": {
    "colab": {
      "name": "Selenium",
      "private_outputs": true,
      "provenance": [],
      "collapsed_sections": [],
      "authorship_tag": "ABX9TyOuTblqB6fRs7LeQwuUMhl1",
      "include_colab_link": true
    },
    "kernelspec": {
      "name": "python3",
      "display_name": "Python 3"
    },
    "language_info": {
      "name": "python"
    }
  },
  "cells": [
    {
      "cell_type": "markdown",
      "metadata": {
        "id": "view-in-github",
        "colab_type": "text"
      },
      "source": [
        "<a href=\"https://colab.research.google.com/github/wlgnsthd/BigdataAnalysis/blob/main/Selenium.ipynb\" target=\"_parent\"><img src=\"https://colab.research.google.com/assets/colab-badge.svg\" alt=\"Open In Colab\"/></a>"
      ]
    },
    {
      "cell_type": "markdown",
      "metadata": {
        "id": "y_AKRuoqY4TY"
      },
      "source": [
        "#import"
      ]
    },
    {
      "cell_type": "code",
      "metadata": {
        "id": "kkGJHzLhY4mi"
      },
      "source": [
        "# !pip install selenium\n",
        "from selenium import webdriver\n",
        "import bs4\n",
        "import time\n",
        "import pandas as pd"
      ],
      "execution_count": null,
      "outputs": []
    },
    {
      "cell_type": "code",
      "metadata": {
        "id": "X8O8eoNA7-42"
      },
      "source": [
        "chromedriver_dir = './chromedriver.exe' # 프로그램이 해당 폴더에 있어야함\n",
        "driver = webdriver.Chrome(chromedriver_dir)"
      ],
      "execution_count": null,
      "outputs": []
    },
    {
      "cell_type": "markdown",
      "metadata": {
        "id": "VURFjaGHY1l5"
      },
      "source": [
        "#데이터 추출"
      ]
    },
    {
      "cell_type": "code",
      "metadata": {
        "id": "TpZXgPRgXwsb"
      },
      "source": [
        "driver.get('') #찾을 사이트 입력\n",
        "time.sleep(5)"
      ],
      "execution_count": null,
      "outputs": []
    },
    {
      "cell_type": "code",
      "metadata": {
        "id": "C5D_dQdflUsZ"
      },
      "source": [
        "location=driver.find_element_by_class_name('') # 검색하는 항목 class\n",
        "location.send_keys('') # 그 클래스에 입력할 것"
      ],
      "execution_count": null,
      "outputs": []
    },
    {
      "cell_type": "code",
      "metadata": {
        "id": "dYoLXjT-lX9y"
      },
      "source": [
        "xpath = ''' ''' # 클릭하는 항목의 xpath 복사\n",
        "location_enter = driver.find_element_by_xpath(xpath).click()\n",
        "time.sleep(5)"
      ],
      "execution_count": null,
      "outputs": []
    },
    {
      "cell_type": "code",
      "metadata": {
        "id": "9AG2ouF8lbRD"
      },
      "source": [
        "source = driver.page_source\n",
        "bs = bs4.BeautifulSoup(source, 'lxml')\n",
        "\n",
        "a_list = bs.select('') # 가져올 항목1\n",
        "a_dict = {}\n",
        "for info in a_list:\n",
        "    a_dict[info] = info\n",
        "a = list(a_dict.values())\n",
        "\n",
        "b_list = bs.select('') # 가져올 항목2\n",
        "b_dict = {}\n",
        "for info in b_list:\n",
        "    b_dict[info] = info.text\n",
        "b = list(b_dict.values())\n",
        "\n",
        "c_list = bs.select('') # 가져올 항목3\n",
        "c_dict = {}\n",
        "for info in c_list:\n",
        "    c_dict[info] = info.text\n",
        "c = list(c_dict.values())\n",
        "\n",
        "d_list = bs.select('') # 가져올 항목4\n",
        "d_dict = {}\n",
        "for info in d_list:\n",
        "    d_dict[info] = info.text\n",
        "d = list(d_dict.values())"
      ],
      "execution_count": null,
      "outputs": []
    },
    {
      "cell_type": "markdown",
      "metadata": {
        "id": "7Xevbvu8ZGEm"
      },
      "source": [
        "#데이터정렬"
      ]
    },
    {
      "cell_type": "code",
      "metadata": {
        "id": "JSGMOX1EZIIs"
      },
      "source": [
        "result_df = pd.DataFrame()\n",
        "append_df = pd.DataFrame({\"\":a,\"\":b,\"\":c,\"\":d}) # 항목들 입력\n",
        "result_df = result_df.append(append_df)"
      ],
      "execution_count": null,
      "outputs": []
    },
    {
      "cell_type": "markdown",
      "metadata": {
        "id": "GgzTzhF7Yzyz"
      },
      "source": [
        "#출력"
      ]
    },
    {
      "cell_type": "code",
      "metadata": {
        "id": "AUPbrsjDY1Ce"
      },
      "source": [
        "display(pd.DataFrame(result_df))"
      ],
      "execution_count": null,
      "outputs": []
    },
    {
      "cell_type": "code",
      "metadata": {
        "id": "c31OVLqwli3R"
      },
      "source": [
        "result_df.to_csv(\"./result2_20171648_JihoonSong.csv\",sep=\",\",na_rep='NaN',index=False, encoding = 'utf-8-sig')"
      ],
      "execution_count": null,
      "outputs": []
    }
  ]
}