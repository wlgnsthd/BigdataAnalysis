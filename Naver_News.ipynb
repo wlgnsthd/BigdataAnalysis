{
  "nbformat": 4,
  "nbformat_minor": 0,
  "metadata": {
    "colab": {
      "name": "Naver_News",
      "private_outputs": true,
      "provenance": [],
      "collapsed_sections": [],
      "authorship_tag": "ABX9TyOjQi6moo/gPzGRSP3l09Dw",
      "include_colab_link": true
    },
    "kernelspec": {
      "name": "python3",
      "display_name": "Python 3"
    },
    "language_info": {
      "name": "python"
    }
  },
  "cells": [
    {
      "cell_type": "markdown",
      "metadata": {
        "id": "view-in-github",
        "colab_type": "text"
      },
      "source": [
        "<a href=\"https://colab.research.google.com/github/wlgnsthd/BigdataAnalysis/blob/main/Naver_News.ipynb\" target=\"_parent\"><img src=\"https://colab.research.google.com/assets/colab-badge.svg\" alt=\"Open In Colab\"/></a>"
      ]
    },
    {
      "cell_type": "code",
      "metadata": {
        "id": "S3DdJCeYs_io"
      },
      "source": [
        "import requests\n",
        "from bs4 import BeautifulSoup\n",
        "import datetime\n",
        "\n",
        "def get_bs_obj(url):\n",
        "    headers = {'user-agent':'Mozilla/5.0 (Windows NT 10.0; Win64; x64) AppleWebKit/537.36 (KHTML, like Gecko) Chrome/88.0.4324.150 Safari/537.36','accept':'text/html,application/xhtml+xml,application/xml;q=0.9,image/avif,image/webp,image/apng,*/*;q=0.8,application/signed-exchange;v=b3;q=0.9'}    \n",
        "    result = requests.get(url,headers=headers)\n",
        "    bs_obj = BeautifulSoup(result.text, \"html.parser\")\n",
        "    \n",
        "    return bs_obj"
      ],
      "execution_count": null,
      "outputs": []
    },
    {
      "cell_type": "code",
      "metadata": {
        "id": "tDYV2OdutZ1b"
      },
      "source": [
        "start_time = []\n",
        "start = datetime.datetime.strptime(str(20211001), \"%Y%m%d\") # 수집 시작 날짜 \n",
        "end = datetime.datetime.strptime(str(20211010), \"%Y%m%d\") # 수집 종료 날짜\n",
        "date_generated = [start + datetime.timedelta(days=x) for x in range(0,int((end-start).days)+1)]\n",
        "\n",
        "for date in date_generated:\n",
        "    start_time.append(date.strftime(\"%Y%m%d\"))\n",
        "print(start_time)"
      ],
      "execution_count": null,
      "outputs": []
    },
    {
      "cell_type": "code",
      "metadata": {
        "id": "-dat4Q30t4Fs"
      },
      "source": [
        "result_list=[]\n",
        "\n",
        "for date in start_time:\n",
        "    result_list_transfer=[]\n",
        "    try:\n",
        "#press_dict = {\"경향신문\" : \"032\", \"국민일보\" : \"005\", \"동아일보\" : \"020\", \"문화일보\" : \"021\", \"서울신문\" : \"081\", \"세계일보\" : \"022\", \"조선일보\" : \"023\", \"중앙일보\" : \"025\", \"한겨례\" : \"028\", \"한국일보\" : \"469\"}\n",
        "        news_arrange_url = \"https://news.naver.com/main/list.naver?mode=LPOD&mid=sec&oid=\"\n",
        "        press = \"025\"\n",
        "        news_list_date_url = news_arrange_url + press + \"&listType=paper&date=\" + date\n",
        "        bs_obj = get_bs_obj(news_list_date_url)\n",
        "        \n",
        "        for i in range(10):\n",
        "            try:\n",
        "                written_time=bs_obj.select_one(\"#main_content > div.list_body.newsflash_body > ul:nth-of-type(2) > li:nth-of-type(\"+str(i)+\") > dl > dt > span.date\")\n",
        "                result_list_transfer.append(written_time.text)\n",
        "                title=bs_obj.select_one(\"#main_content > div.list_body.newsflash_body > ul:nth-of-type(2) > li:nth-of-type(\"+str(i)+\") > dl > dt > a\")\n",
        "                result_list_transfer.append(title.text)\n",
        "                result_list_transfer.append(title[\"href\"])\n",
        "            except:\n",
        "                continue\n",
        "    except:\n",
        "        continue\n",
        "    result_list.append(result_list_transfer)\n",
        "    \n",
        "result_list = [v for v in result_list if v] #[]제거\n",
        "print(result_list)"
      ],
      "execution_count": null,
      "outputs": []
    },
    {
      "cell_type": "code",
      "metadata": {
        "id": "5xsGQznUv7F5"
      },
      "source": [
        ""
      ],
      "execution_count": null,
      "outputs": []
    }
  ]
}