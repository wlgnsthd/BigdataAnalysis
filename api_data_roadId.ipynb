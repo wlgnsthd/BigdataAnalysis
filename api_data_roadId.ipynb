{
 "cells": [
  {
   "cell_type": "code",
   "execution_count": 5,
   "id": "db1d69a3",
   "metadata": {},
   "outputs": [],
   "source": [
    "import os\n",
    "import sys\n",
    "import urllib.request\n",
    "import datetime\n",
    "import time\n",
    "import json\n",
    "import math\n",
    "import pandas as pd\n",
    "import csv"
   ]
  },
  {
   "cell_type": "code",
   "execution_count": 6,
   "id": "3031a90e",
   "metadata": {},
   "outputs": [],
   "source": [
    "result_pd = pd.DataFrame()\n",
    "access_key = '39Eri2U1%2BFHElpAAe2Cqjlkbm9Cup%2BTfY%2BQ4I5aAR6Ho5yEyM9Dbng00rv%2B%2FfBVh3m4bsfMnxRYP4yjPBmTy7Q%3D%3D'\n",
    "access_key2 = '39Eri2U1+FHElpAAe2Cqjlkbm9Cup+TfY+Q4I5aAR6Ho5yEyM9Dbng00rv+/fBVh3m4bsfMnxRYP4yjPBmTy7Q=='"
   ]
  },
  {
   "cell_type": "code",
   "execution_count": 7,
   "id": "cd6a8149",
   "metadata": {},
   "outputs": [],
   "source": [
    "def get_request_url(url):\n",
    "    \n",
    "    req = urllib.request.Request(url)\n",
    "    \n",
    "    try: \n",
    "        response = urllib.request.urlopen(req)\n",
    "        if response.getcode() == 200:\n",
    "            return response.read().decode('utf-8')\n",
    "            \n",
    "    except Exception as e:\n",
    "        return None"
   ]
  },
  {
   "cell_type": "code",
   "execution_count": 9,
   "id": "d5d7910e",
   "metadata": {},
   "outputs": [
    {
     "name": "stdout",
     "output_type": "stream",
     "text": [
      "http://data.ulsan.go.kr/rest/roadinformation/RoadInfo?ServiceKey=39Eri2U1+FHElpAAe2Cqjlkbm9Cup+TfY+Q4I5aAR6Ho5yEyM9Dbng00rv+/fBVh3m4bsfMnxRYP4yjPBmTy7Q==&pageNo=1&numOfRows=2000\n",
      "None\n"
     ]
    }
   ],
   "source": [
    "# Road ID 검색 (ITS 검색으로 부터 북부순환도로,삼호로,남부순환도로,대학로,울산고속도로 항목 얻어냄)\n",
    "end_point = 'http://data.ulsan.go.kr/rest/roadinformation/RoadInfo'\n",
    "parameters = \"?ServiceKey=\" + access_key2\n",
    "parameters += \"&pageNo=1\" # 시작페이지\n",
    "parameters += \"&numOfRows=2000\" # 페이지 크기\n",
    "url = end_point + parameters\n",
    "retData = get_request_url(url)\n",
    "print(url)\n",
    "print(retData)"
   ]
  },
  {
   "cell_type": "code",
   "execution_count": null,
   "id": "b3f1d751",
   "metadata": {},
   "outputs": [],
   "source": []
  }
 ],
 "metadata": {
  "kernelspec": {
   "display_name": "Python 3 (ipykernel)",
   "language": "python",
   "name": "python3"
  },
  "language_info": {
   "codemirror_mode": {
    "name": "ipython",
    "version": 3
   },
   "file_extension": ".py",
   "mimetype": "text/x-python",
   "name": "python",
   "nbconvert_exporter": "python",
   "pygments_lexer": "ipython3",
   "version": "3.9.7"
  }
 },
 "nbformat": 4,
 "nbformat_minor": 5
}
