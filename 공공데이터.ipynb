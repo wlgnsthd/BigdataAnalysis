{
  "nbformat": 4,
  "nbformat_minor": 0,
  "metadata": {
    "colab": {
      "name": "공공데이터",
      "private_outputs": true,
      "provenance": [],
      "authorship_tag": "ABX9TyN8XAzszYhLXdscIYbOVdwP",
      "include_colab_link": true
    },
    "kernelspec": {
      "name": "python3",
      "display_name": "Python 3"
    },
    "language_info": {
      "name": "python"
    }
  },
  "cells": [
    {
      "cell_type": "markdown",
      "metadata": {
        "id": "view-in-github",
        "colab_type": "text"
      },
      "source": [
        "<a href=\"https://colab.research.google.com/github/wlgnsthd/BigdataAnalysis/blob/main/%EA%B3%B5%EA%B3%B5%EB%8D%B0%EC%9D%B4%ED%84%B0.ipynb\" target=\"_parent\"><img src=\"https://colab.research.google.com/assets/colab-badge.svg\" alt=\"Open In Colab\"/></a>"
      ]
    },
    {
      "cell_type": "markdown",
      "metadata": {
        "id": "y_AKRuoqY4TY"
      },
      "source": [
        "#import"
      ]
    },
    {
      "cell_type": "code",
      "metadata": {
        "id": "kkGJHzLhY4mi"
      },
      "source": [
        "import os\n",
        "import sys\n",
        "import urllib.request\n",
        "import datetime\n",
        "import time\n",
        "import json\n",
        "import math\n",
        "import pandas as pd\n",
        "from dateutil.relativedelta import relativedelta\n",
        "\n",
        "result_pd = pd.DataFrame()\n",
        "\n",
        "traffic_num = 1 #traffic 적절하게 수정\n",
        "\n",
        "access_key = \"39Eri2U1%2BFHElpAAe2Cqjlkbm9Cup%2BTfY%2BQ4I5aAR6Ho5yEyM9Dbng00rv%2B%2FfBVh3m4bsfMnxRYP4yjPBmTy7Q%3D%3D\" "
      ],
      "execution_count": null,
      "outputs": []
    },
    {
      "cell_type": "markdown",
      "metadata": {
        "id": "VURFjaGHY1l5"
      },
      "source": [
        "#데이터 전처리"
      ]
    },
    {
      "cell_type": "code",
      "metadata": {
        "id": "beuBQmlcizxG"
      },
      "source": [
        "start_time = []\n",
        "start = datetime.datetime.strptime(str(20200101), \"%Y%m%d\") # 수집 시작 날짜 (수정)\n",
        "end = datetime.datetime.strptime(str(20201231), \"%Y%m%d\") # 수집 종료 날짜 + 1 (수정)\n",
        "date_generated = [start + relativedelta(months=1)*x for x in range(0,12)] #monthly\n",
        "\n",
        "for date in date_generated:\n",
        "    start_time.append(date.strftime(\"%Y%m%d\"))"
      ],
      "execution_count": null,
      "outputs": []
    },
    {
      "cell_type": "code",
      "metadata": {
        "id": "zscE86jLcnee"
      },
      "source": [
        "def get_request_url(url):\n",
        "    req = urllib.request.Request(url)    \n",
        "    try: \n",
        "        response = urllib.request.urlopen(req)\n",
        "        if response.getcode() == 200:\n",
        "            return response.read().decode('utf-8')\n",
        "            \n",
        "    except Exception as e:\n",
        "        return None"
      ],
      "execution_count": null,
      "outputs": []
    },
    {
      "cell_type": "markdown",
      "metadata": {
        "id": "A1Nn1XTuqH_t"
      },
      "source": [
        "#데이터 처리"
      ]
    },
    {
      "cell_type": "markdown",
      "metadata": {
        "id": "Bqv-FV9fqSYm"
      },
      "source": [
        "##일반민원"
      ]
    },
    {
      "cell_type": "code",
      "metadata": {
        "id": "pMrjPj33hfNh"
      },
      "source": [
        "def getname(month):\n",
        "    end_point = \"http://apis.data.go.kr/1140100/minAnalsInfoView3/minTopNKeyword3\"\n",
        "    parameters = \"?serviceKey=\" + access_key\n",
        "    parameters += \"&resultCount=\" + str(traffic_num)\n",
        "    parameters += \"&dateFrom=\" + str(month)\n",
        "    parameters += \"&dateTo=\" + (datetime.datetime.strptime(month, \"%Y%m%d\") + relativedelta(months=1)-datetime.timedelta(days=1)).strftime(\"%Y%m%d\")##끝나는날짜\n",
        "    parameters += \"&target=pttn\" \n",
        "    parameters += \"&mainSubCode=1620000\" # 국가인권위원회\n",
        "    url = end_point + parameters\n",
        "    print(url)\n",
        "    retData = get_request_url(url)\n",
        "\n",
        "    if (retData == None):\n",
        "        return None\n",
        "    else:\n",
        "        return json.loads(retData)"
      ],
      "execution_count": null,
      "outputs": []
    },
    {
      "cell_type": "code",
      "metadata": {
        "id": "QD5BMbdAkGcm"
      },
      "source": [
        "transfer_label = []\n",
        "transfer_value = []\n",
        "for i in start_time:\n",
        "    transfer_l=[]\n",
        "    transfer_v=[]\n",
        "    for n in range(traffic_num):\n",
        "        try:\n",
        "            b = getname(i)\n",
        "            print(b)\n",
        "            transfer_l.append(b[n]['label'])\n",
        "            transfer_v.append(b[n]['value'])\n",
        "        except:\n",
        "            continue\n",
        "    transfer_label.append(transfer_l)   \n",
        "    transfer_value.append(transfer_v)\n",
        "#print(transfer_label)\n",
        "#print(transfer_value)    "
      ],
      "execution_count": null,
      "outputs": []
    },
    {
      "cell_type": "code",
      "metadata": {
        "id": "pJvfhcQCrMvR"
      },
      "source": [
        "for i in range(len(start_time)):\n",
        "    if not transfer_label[i]:\n",
        "        transfer_label[i].append(\"None\")\n",
        "    if not transfer_value[i]:\n",
        "        transfer_value[i].append(\"None\")"
      ],
      "execution_count": null,
      "outputs": []
    },
    {
      "cell_type": "code",
      "metadata": {
        "id": "lZ1lzystgu3c"
      },
      "source": [
        "for k in range(len(start_time)):\n",
        "    for v in range(len(transfer_label[k])):\n",
        "        weeknum= k+1\n",
        "        append_pd = pd.DataFrame({\"월별\":weeknum,\"민원별\":\"일반민원\",\"키워드\":transfer_label[k][v],\"빈도\":transfer_value[k][v]},index=[k])\n",
        "        result_pd = result_pd.append(append_pd)"
      ],
      "execution_count": null,
      "outputs": []
    },
    {
      "cell_type": "code",
      "metadata": {
        "id": "VeOpE5IumhEb"
      },
      "source": [
        "display(pd.DataFrame(result_pd))"
      ],
      "execution_count": null,
      "outputs": []
    },
    {
      "cell_type": "markdown",
      "metadata": {
        "id": "phzEDphBqP78"
      },
      "source": [
        "##고충민원"
      ]
    },
    {
      "cell_type": "code",
      "metadata": {
        "id": "v5H_QAsAnvRJ"
      },
      "source": [
        "def getname_2(month):\n",
        "    end_point = \"http://apis.data.go.kr/1140100/minAnalsInfoView3/minTopNKeyword3\"\n",
        "    parameters = \"?serviceKey=\" + access_key\n",
        "    parameters += \"&resultCount=\" + str(traffic_num)\n",
        "    parameters += \"&dateFrom=\" + str(month)\n",
        "    parameters += \"&dateTo=\" + (datetime.datetime.strptime(month, \"%Y%m%d\") + relativedelta(months=1)-datetime.timedelta(days=1)).strftime(\"%Y%m%d\")##끝나는날짜\n",
        "    parameters += \"&target=dfpt\" \n",
        "    parameters += \"&mainSubCode=1620000\" # 국가인권위원회\n",
        "    url = end_point + parameters\n",
        "    print(url)\n",
        "    retData = get_request_url(url)\n",
        "\n",
        "    if (retData == None):\n",
        "        return None\n",
        "    else:\n",
        "        return json.loads(retData)"
      ],
      "execution_count": null,
      "outputs": []
    },
    {
      "cell_type": "code",
      "metadata": {
        "id": "jxwYb793nvRJ"
      },
      "source": [
        "transfer_label = []\n",
        "transfer_value = []\n",
        "for i in start_time:\n",
        "    transfer_l=[]\n",
        "    transfer_v=[]\n",
        "    for n in range(traffic_num):\n",
        "        try:\n",
        "            b = getname_2(i)\n",
        "            print(b)\n",
        "            transfer_l.append(b[n]['label'])\n",
        "            transfer_v.append(b[n]['value'])\n",
        "        except:\n",
        "            continue\n",
        "    transfer_label.append(transfer_l)   \n",
        "    transfer_value.append(transfer_v)\n",
        "print(transfer_label)\n",
        "print(transfer_value)"
      ],
      "execution_count": null,
      "outputs": []
    },
    {
      "cell_type": "code",
      "metadata": {
        "id": "e5sJxGqxrdGX"
      },
      "source": [
        "for i in range(len(start_time)):\n",
        "    if not transfer_label[i]:\n",
        "        transfer_label[i].append(\"None\")\n",
        "    if not transfer_value[i]:\n",
        "        transfer_value[i].append(\"None\")"
      ],
      "execution_count": null,
      "outputs": []
    },
    {
      "cell_type": "code",
      "metadata": {
        "id": "PpfZ_85_nvRK"
      },
      "source": [
        "for k in range(len(start_time)):\n",
        "    for v in range(len(transfer_label[k])):\n",
        "        weeknum= k+1\n",
        "        append_pd = pd.DataFrame({\"월별\":weeknum,\"민원별\":\"고충민원\",\"키워드\":transfer_label[k][v],\"빈도\":transfer_value[k][v]},index=[k])\n",
        "        result_pd = result_pd.append(append_pd)"
      ],
      "execution_count": null,
      "outputs": []
    },
    {
      "cell_type": "code",
      "metadata": {
        "id": "Urqc21o1nvRK"
      },
      "source": [
        "display(pd.DataFrame(result_pd))"
      ],
      "execution_count": null,
      "outputs": []
    },
    {
      "cell_type": "markdown",
      "metadata": {
        "id": "_xcN9fGAq1OB"
      },
      "source": [
        "#출력"
      ]
    },
    {
      "cell_type": "code",
      "metadata": {
        "id": "JSGMOX1EZIIs"
      },
      "source": [
        "result_pd=result_pd.sort_values(['월별'],ascending=True)\n",
        "display(pd.DataFrame(result_pd))\n",
        "result_pd.to_csv(\"./result_openapi_20171648_JihoonSong.csv\",sep=\",\",na_rep='NaN',index=False, encoding = 'utf-8-sig')"
      ],
      "execution_count": null,
      "outputs": []
    },
    {
      "cell_type": "code",
      "metadata": {
        "id": "8d7PC78Hq91f"
      },
      "source": [
        ""
      ],
      "execution_count": null,
      "outputs": []
    }
  ]
}