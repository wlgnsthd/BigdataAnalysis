{
  "nbformat": 4,
  "nbformat_minor": 0,
  "metadata": {
    "colab": {
      "name": "Crawling_page",
      "private_outputs": true,
      "provenance": [],
      "collapsed_sections": [],
      "authorship_tag": "ABX9TyOpOVcrl6vZ2WmwT92b3l0w",
      "include_colab_link": true
    },
    "kernelspec": {
      "name": "python3",
      "display_name": "Python 3"
    },
    "language_info": {
      "name": "python"
    }
  },
  "cells": [
    {
      "cell_type": "markdown",
      "metadata": {
        "id": "view-in-github",
        "colab_type": "text"
      },
      "source": [
        "<a href=\"https://colab.research.google.com/github/wlgnsthd/BigdataAnalysis/blob/main/Crawling_page.ipynb\" target=\"_parent\"><img src=\"https://colab.research.google.com/assets/colab-badge.svg\" alt=\"Open In Colab\"/></a>"
      ]
    },
    {
      "cell_type": "markdown",
      "metadata": {
        "id": "y_AKRuoqY4TY"
      },
      "source": [
        "#import"
      ]
    },
    {
      "cell_type": "code",
      "metadata": {
        "id": "kkGJHzLhY4mi"
      },
      "source": [
        "import requests\n",
        "from bs4 import BeautifulSoup\n",
        "import pandas as pd"
      ],
      "execution_count": null,
      "outputs": []
    },
    {
      "cell_type": "markdown",
      "metadata": {
        "id": "VURFjaGHY1l5"
      },
      "source": [
        "#데이터 추출"
      ]
    },
    {
      "cell_type": "markdown",
      "metadata": {
        "id": "cGYul1Fnf5Av"
      },
      "source": [
        "html 내용 가져오는 함수정의"
      ]
    },
    {
      "cell_type": "code",
      "metadata": {
        "id": "TpZXgPRgXwsb"
      },
      "source": [
        "def get_htmls(url):\n",
        "    headers = {'user-agent':'Mozilla/5.0 (Windows NT 10.0; Win64; x64) AppleWebKit/537.36 (KHTML, like Gecko) Chrome/88.0.4324.150 Safari/537.36','accept':'text/html,application/xhtml+xml,application/xml;q=0.9,image/avif,image/webp,image/apng,*/*;q=0.8,application/signed-exchange;v=b3;q=0.9'}    \n",
        "    result = requests.get(url,headers=headers)\n",
        "    htmls = BeautifulSoup(result.text, \"html.parser\")\n",
        "    return htmls"
      ],
      "execution_count": null,
      "outputs": []
    },
    {
      "cell_type": "markdown",
      "metadata": {
        "id": "nlQOtJKmf-lg"
      },
      "source": [
        "추출 url 설정"
      ]
    },
    {
      "cell_type": "code",
      "metadata": {
        "id": "bgV6Z_DGgFOl"
      },
      "source": [
        "start_url = \"https://comic.naver.com/webtoon/genre\" # 기본 url\n",
        "parameters = \"?order=StarScore\"\n",
        "parameters += \"&view=image\"\n",
        "parameters += \"&genre=omnibus\"\n",
        "url = start_url + parameters\n",
        "print(\"url : \" + url)"
      ],
      "execution_count": null,
      "outputs": []
    },
    {
      "cell_type": "markdown",
      "metadata": {
        "id": "jfzs_V-lg2i3"
      },
      "source": [
        "실행 후 원하는 내용 추출"
      ]
    },
    {
      "cell_type": "code",
      "metadata": {
        "id": "mFOkdZZBg4GV"
      },
      "source": [
        "# select 중복 자동 삭제\n",
        "contents_title = get_htmls(url).select('li > dl > dt > a')\n",
        "data_title_dict = {}\n",
        "for title in contents_title:\n",
        "    data_title_dict[title.text] = title.get('title')\n",
        "data_title = list(data_title_dict.values())\n",
        "del data_title[20:]\n",
        "print(data_title)\n",
        "\n",
        "contents_artist = get_htmls(url).select('dd.desc > a')\n",
        "data_artist_dict = {}\n",
        "print(contents_artist)\n",
        "for artist in contents_artist:\n",
        "    data_artist_dict[artist.text] = artist.text\n",
        "data_artist = list(data_artist_dict.values())\n",
        "del data_artist[20:]\n",
        "print(data_artist)\n",
        "\n",
        "contents_review = get_htmls(url).select('ul > li > dl > dd > div > strong')\n",
        "data_review_dict = {}\n",
        "for review in contents_review:\n",
        "    data_review_dict[review.text] = review.text\n",
        "data_review = list(data_review_dict.values())\n",
        "del data_review[20:]\n",
        "print(data_review)"
      ],
      "execution_count": null,
      "outputs": []
    },
    {
      "cell_type": "markdown",
      "metadata": {
        "id": "7Xevbvu8ZGEm"
      },
      "source": [
        "#데이터정렬"
      ]
    },
    {
      "cell_type": "code",
      "metadata": {
        "id": "JSGMOX1EZIIs"
      },
      "source": [
        "result_df = pd.DataFrame()\n",
        "append_df = pd.DataFrame({\"title\":data_title,\"artist\":data_artist,\"평점\":data_review})\n",
        "result_df = result_df.append(append_df)"
      ],
      "execution_count": null,
      "outputs": []
    },
    {
      "cell_type": "code",
      "metadata": {
        "id": "WfFPcuEyE4gP"
      },
      "source": [
        "result_df = result_df.reset_index(drop=True)\n",
        "display(pd.DataFrame(result_df))"
      ],
      "execution_count": null,
      "outputs": []
    },
    {
      "cell_type": "markdown",
      "metadata": {
        "id": "GgzTzhF7Yzyz"
      },
      "source": [
        "#출력"
      ]
    },
    {
      "cell_type": "code",
      "metadata": {
        "id": "AUPbrsjDY1Ce"
      },
      "source": [
        "#result_df=result_df.sort_values([''],ascending=True)\n",
        "result_df.to_csv(\"./result_df.csv\",sep=\",\",na_rep='NaN',index=False, encoding = 'utf-8-sig')"
      ],
      "execution_count": null,
      "outputs": []
    }
  ]
}