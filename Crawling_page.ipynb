{
  "nbformat": 4,
  "nbformat_minor": 0,
  "metadata": {
    "colab": {
      "name": "Crawling_page",
      "private_outputs": true,
      "provenance": [],
      "collapsed_sections": [],
      "authorship_tag": "ABX9TyO5+kesc7OlvKmNcyY97YNg",
      "include_colab_link": true
    },
    "kernelspec": {
      "name": "python3",
      "display_name": "Python 3"
    },
    "language_info": {
      "name": "python"
    }
  },
  "cells": [
    {
      "cell_type": "markdown",
      "metadata": {
        "id": "view-in-github",
        "colab_type": "text"
      },
      "source": [
        "<a href=\"https://colab.research.google.com/github/wlgnsthd/BigdataAnalysis/blob/main/Crawling_page.ipynb\" target=\"_parent\"><img src=\"https://colab.research.google.com/assets/colab-badge.svg\" alt=\"Open In Colab\"/></a>"
      ]
    },
    {
      "cell_type": "markdown",
      "metadata": {
        "id": "y_AKRuoqY4TY"
      },
      "source": [
        "#import"
      ]
    },
    {
      "cell_type": "code",
      "metadata": {
        "id": "kkGJHzLhY4mi"
      },
      "source": [
        "import requests\n",
        "from bs4 import BeautifulSoup\n",
        "import pandas as pd"
      ],
      "execution_count": null,
      "outputs": []
    },
    {
      "cell_type": "markdown",
      "metadata": {
        "id": "VURFjaGHY1l5"
      },
      "source": [
        "#데이터 추출"
      ]
    },
    {
      "cell_type": "markdown",
      "metadata": {
        "id": "cGYul1Fnf5Av"
      },
      "source": [
        "htmls 내용 가져오는 함수정의"
      ]
    },
    {
      "cell_type": "code",
      "metadata": {
        "id": "TpZXgPRgXwsb"
      },
      "source": [
        "def get_htmls(url):\n",
        "    headers = {'user-agent':'Mozilla/5.0 (Windows NT 10.0; Win64; x64) AppleWebKit/537.36 (KHTML, like Gecko) Chrome/88.0.4324.150 Safari/537.36','accept':'text/html,application/xhtml+xml,application/xml;q=0.9,image/avif,image/webp,image/apng,*/*;q=0.8,application/signed-exchange;v=b3;q=0.9'}    \n",
        "    result = requests.get(url,headers=headers)\n",
        "    htmls = BeautifulSoup(result.content, \"html.parser\")\n",
        "    return htmls"
      ],
      "execution_count": null,
      "outputs": []
    },
    {
      "cell_type": "markdown",
      "metadata": {
        "id": "nlQOtJKmf-lg"
      },
      "source": [
        "추출 url 설정"
      ]
    },
    {
      "cell_type": "code",
      "metadata": {
        "id": "bgV6Z_DGgFOl"
      },
      "source": [
        "start_url = \"\" # 추출기본 url\n",
        "parameters = \"\"\n",
        "parameters += \"\"\n",
        "parameters += \"\"\n",
        "url = start_url + parameters"
      ],
      "execution_count": null,
      "outputs": []
    },
    {
      "cell_type": "markdown",
      "metadata": {
        "id": "jfzs_V-lg2i3"
      },
      "source": [
        "실행 후 원하는 내용 추출"
      ]
    },
    {
      "cell_type": "code",
      "metadata": {
        "id": "pd036CLwH5ic"
      },
      "source": [
        "i = 1\n",
        "a=[]\n",
        "contents = get_htmls(url)\n",
        "for n in range(0,): # 찾는 개수\n",
        "    i_str= str(i)\n",
        "    a_name=''+i_str+'' # selector 복사\n",
        "    a_data = contents.select_one(a_name)\n",
        "    a.append(a_data.text)\n",
        "    i = i+1"
      ],
      "execution_count": null,
      "outputs": []
    },
    {
      "cell_type": "code",
      "metadata": {
        "id": "jWhyLCc0O0VM"
      },
      "source": [
        "i = 1\n",
        "b=[]\n",
        "contents = get_htmls(url)\n",
        "for n in range(0,): # 찾는 개수\n",
        "    i_str= str(i)\n",
        "    b_name=''+i_str+'' # selector 복사\n",
        "    b_data = contents.select_one(b_name)\n",
        "    b.append(b_data.text)\n",
        "    i = i+1"
      ],
      "execution_count": null,
      "outputs": []
    },
    {
      "cell_type": "code",
      "metadata": {
        "id": "veQyVBv9O1Kb"
      },
      "source": [
        "i = 1\n",
        "c=[]\n",
        "contents = get_htmls(url)\n",
        "for n in range(0,): # 찾는 개수\n",
        "    i_str= str(i)\n",
        "    c_name=''+i_str+'' # selector 복사\n",
        "    c_data = contents.select_one(c_name)\n",
        "    c.append(c_data.text)\n",
        "    i = i+1"
      ],
      "execution_count": null,
      "outputs": []
    },
    {
      "cell_type": "code",
      "metadata": {
        "id": "ZIvK-ziDKOdl"
      },
      "source": [
        "#i = 1\n",
        "#c=[]\n",
        "#contents = get_htmls(url)\n",
        "#for n in range(0,): # 찾는 개수\n",
        "#    i_str= str(i)\n",
        "#    c_name=''+i_str+'' # selector 복사\n",
        "#    c_data = contents.select_one(c_name)\n",
        "#    c.append(c_data.text)\n",
        "#    i = i+1"
      ],
      "execution_count": null,
      "outputs": []
    },
    {
      "cell_type": "markdown",
      "metadata": {
        "id": "7Xevbvu8ZGEm"
      },
      "source": [
        "#데이터정렬"
      ]
    },
    {
      "cell_type": "code",
      "metadata": {
        "id": "JSGMOX1EZIIs"
      },
      "source": [
        "result_df = pd.DataFrame()\n",
        "append_df = pd.DataFrame({\"\":a,\"\":b,\"\":c}) #항목 적기\n",
        "result_df = result_df.append(append_df)"
      ],
      "execution_count": null,
      "outputs": []
    },
    {
      "cell_type": "code",
      "metadata": {
        "id": "WfFPcuEyE4gP"
      },
      "source": [
        "result_df = result_df.reset_index(drop=True)\n",
        "display(pd.DataFrame(result_df))"
      ],
      "execution_count": null,
      "outputs": []
    },
    {
      "cell_type": "markdown",
      "metadata": {
        "id": "GgzTzhF7Yzyz"
      },
      "source": [
        "#출력"
      ]
    },
    {
      "cell_type": "code",
      "metadata": {
        "id": "AUPbrsjDY1Ce"
      },
      "source": [
        "result_df.to_csv(\"./result_webscraping_20171648_JihoonSong.csv\",sep=\",\",na_rep='NaN',index=False, encoding = 'utf-8-sig')"
      ],
      "execution_count": null,
      "outputs": []
    }
  ]
}