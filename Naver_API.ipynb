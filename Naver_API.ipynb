{
  "nbformat": 4,
  "nbformat_minor": 0,
  "metadata": {
    "colab": {
      "name": "Naver API",
      "private_outputs": true,
      "provenance": [],
      "collapsed_sections": [],
      "authorship_tag": "ABX9TyP0+3TdI7JEO1N85btVMHcw",
      "include_colab_link": true
    },
    "kernelspec": {
      "name": "python3",
      "display_name": "Python 3"
    },
    "language_info": {
      "name": "python"
    }
  },
  "cells": [
    {
      "cell_type": "markdown",
      "metadata": {
        "id": "view-in-github",
        "colab_type": "text"
      },
      "source": [
        "<a href=\"https://colab.research.google.com/github/wlgnsthd/BigdataAnalysis/blob/main/Naver_API.ipynb\" target=\"_parent\"><img src=\"https://colab.research.google.com/assets/colab-badge.svg\" alt=\"Open In Colab\"/></a>"
      ]
    },
    {
      "cell_type": "markdown",
      "metadata": {
        "id": "y_AKRuoqY4TY"
      },
      "source": [
        "#import"
      ]
    },
    {
      "cell_type": "code",
      "metadata": {
        "id": "q-DNkIgn3-Lv"
      },
      "source": [
        "import os\n",
        "import sys\n",
        "import urllib.request\n",
        "import datetime\n",
        "import time\n",
        "import json\n",
        "import pdb\n",
        "\n",
        "client_id = \"n1fBgJg4y7_vRANLV9n5\" \n",
        "client_secret = \"Mb_dBHAdsb\""
      ],
      "execution_count": null,
      "outputs": []
    },
    {
      "cell_type": "markdown",
      "metadata": {
        "id": "VURFjaGHY1l5"
      },
      "source": [
        "#데이터 추출"
      ]
    },
    {
      "cell_type": "code",
      "metadata": {
        "id": "7ia3RNmy1AoF"
      },
      "source": [
        "def get_request_url(url):\n",
        "    \n",
        "    req = urllib.request.Request(url)\n",
        "    req.add_header(\"X-Naver-Client-Id\", client_id)\n",
        "    req.add_header(\"X-Naver-Client-Secret\", client_secret)\n",
        "    try: \n",
        "        response = urllib.request.urlopen(req)\n",
        "        if response.getcode() == 200:\n",
        "            return response.read().decode('utf-8')\n",
        "        if response.getcode() == 400:\n",
        "            return None\n",
        "    except:\n",
        "        return None"
      ],
      "execution_count": null,
      "outputs": []
    },
    {
      "cell_type": "code",
      "metadata": {
        "id": "tTyJDPVT1EDF"
      },
      "source": [
        "def getNaverSearchResult(sNode, search_text, page_start, display):\n",
        "    \n",
        "    base = \"https://openapi.naver.com/v1/search\"\n",
        "    node = \"/%s.json\" % sNode\n",
        "    parameters = \"?query=%s&start=%s&display=%s\" % (urllib.parse.quote(search_text), page_start, display)\n",
        "    url = base + node + parameters\n",
        "    \n",
        "    retData = get_request_url(url)\n",
        "    \n",
        "    if (retData == None):\n",
        "        return None\n",
        "    else:\n",
        "        return json.loads(retData)"
      ],
      "execution_count": null,
      "outputs": []
    },
    {
      "cell_type": "code",
      "metadata": {
        "id": "mHp78ZW91KXk"
      },
      "source": [
        "def getPostData(post, jsonResult):\n",
        "    \n",
        "    title = post['title']\n",
        "    description = post['description']\n",
        "    link = post['link']\n",
        "    \n",
        "    jsonResult.append({'title':title, 'link': link, \"description\": description})\n",
        "    return"
      ],
      "execution_count": null,
      "outputs": []
    },
    {
      "cell_type": "code",
      "metadata": {
        "id": "PQzIo_iG2EDL"
      },
      "source": [
        "jsonResult = []\n",
        "\n",
        "# 'news', 'blog', 'cafearticle', 'encyc'\n",
        "sNode = '' #검색할 항목 입력\n",
        "search_text = '' #검색할 대상 입력\n",
        "display_count = 100\n",
        "\n",
        "jsonSearch = getNaverSearchResult(sNode, search_text, 1, display_count)\n",
        "\n",
        "while ((jsonSearch != None) and (jsonSearch['display'] != 0)):\n",
        "    for post in jsonSearch['items']:\n",
        "        getPostData(post, jsonResult)\n",
        "    nStart = jsonSearch['start'] + jsonSearch['display']\n",
        "    jsonSearch = getNaverSearchResult(sNode, search_text, nStart, display_count)\n",
        "\n",
        "with open('%s_naver_%s.json' % (search_text, sNode), 'w', encoding='utf-8-sig') as outfile:\n",
        "    retJson = json.dumps(jsonResult,\n",
        "                    indent=4, sort_keys=True,\n",
        "                    ensure_ascii=False)\n",
        "    outfile.write(retJson) "
      ],
      "execution_count": null,
      "outputs": []
    },
    {
      "cell_type": "markdown",
      "metadata": {
        "id": "7Xevbvu8ZGEm"
      },
      "source": [
        "#데이터정렬"
      ]
    },
    {
      "cell_type": "code",
      "metadata": {
        "id": "JSGMOX1EZIIs"
      },
      "source": [
        ""
      ],
      "execution_count": null,
      "outputs": []
    }
  ]
}